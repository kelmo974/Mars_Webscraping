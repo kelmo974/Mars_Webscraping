{
 "cells": [
  {
   "cell_type": "code",
   "execution_count": 1,
   "metadata": {},
   "outputs": [],
   "source": [
    "from splinter import Browser\n",
    "from bs4 import BeautifulSoup\n",
    "from webdriver_manager.chrome import ChromeDriverManager"
   ]
  },
  {
   "cell_type": "code",
   "execution_count": null,
   "metadata": {},
   "outputs": [],
   "source": [
    "# Set up Splinter\n",
    "executable_path = {'executable_path': ChromeDriverManager().install()}\n",
    "browser = Browser('chrome', **executable_path, headless=False)"
   ]
  },
  {
   "cell_type": "code",
   "execution_count": 3,
   "metadata": {},
   "outputs": [],
   "source": [
    "url = \"https://stackoverflow.com/questions/tagged/python?sort=MostVotes&edited=true\""
   ]
  },
  {
   "cell_type": "code",
   "execution_count": 4,
   "metadata": {},
   "outputs": [],
   "source": [
    "browser.visit(url)"
   ]
  },
  {
   "cell_type": "code",
   "execution_count": 5,
   "metadata": {},
   "outputs": [],
   "source": [
    "html = browser.html"
   ]
  },
  {
   "cell_type": "code",
   "execution_count": 6,
   "metadata": {},
   "outputs": [],
   "source": [
    "soup = BeautifulSoup(html, 'html.parser')"
   ]
  },
  {
   "cell_type": "code",
   "execution_count": 7,
   "metadata": {},
   "outputs": [
    {
     "data": {
      "text/plain": [
       "'\\nQuestions tagged [python]        '"
      ]
     },
     "execution_count": 7,
     "metadata": {},
     "output_type": "execute_result"
    }
   ],
   "source": [
    "soup.find('h1').text"
   ]
  },
  {
   "cell_type": "code",
   "execution_count": 8,
   "metadata": {},
   "outputs": [
    {
     "data": {
      "text/plain": [
       "'Questions tagged [python]'"
      ]
     },
     "execution_count": 8,
     "metadata": {},
     "output_type": "execute_result"
    }
   ],
   "source": [
    "soup.find('h1').text.strip()"
   ]
  },
  {
   "cell_type": "code",
   "execution_count": 9,
   "metadata": {},
   "outputs": [],
   "source": [
    "questions = soup.find_all('a', class_='question-hyperlink')"
   ]
  },
  {
   "cell_type": "code",
   "execution_count": 10,
   "metadata": {},
   "outputs": [
    {
     "data": {
      "text/plain": [
       "[<a class=\"question-hyperlink\" href=\"/questions/231767/what-does-the-yield-keyword-do\">What does the \"yield\" keyword do?</a>,\n",
       " <a class=\"question-hyperlink\" href=\"/questions/419163/what-does-if-name-main-do\">What does if __name__ == \"__main__\": do?</a>,\n",
       " <a class=\"question-hyperlink\" href=\"/questions/394809/does-python-have-a-ternary-conditional-operator\">Does Python have a ternary conditional operator?</a>,\n",
       " <a class=\"question-hyperlink\" href=\"/questions/100003/what-are-metaclasses-in-python\">What are metaclasses in Python?</a>,\n",
       " <a class=\"question-hyperlink\" href=\"/questions/82831/how-do-i-check-whether-a-file-exists-without-exceptions\">How do I check whether a file exists without exceptions?</a>,\n",
       " <a class=\"question-hyperlink\" href=\"/questions/38987/how-do-i-merge-two-dictionaries-in-a-single-expression-take-union-of-dictionari\">How do I merge two dictionaries in a single expression (take union of dictionaries)?</a>,\n",
       " <a class=\"question-hyperlink\" href=\"/questions/89228/how-to-execute-a-program-or-call-a-system-command\">How to execute a program or call a system command?</a>,\n",
       " <a class=\"question-hyperlink\" href=\"/questions/273192/how-can-i-safely-create-a-nested-directory-in-python\">How can I safely create a nested directory in Python?</a>,\n",
       " <a class=\"question-hyperlink\" href=\"/questions/522563/accessing-the-index-in-for-loops\">Accessing the index in 'for' loops?</a>,\n",
       " <a class=\"question-hyperlink\" href=\"/questions/952914/how-to-make-a-flat-list-out-of-a-list-of-lists\">How to make a flat list out of a list of lists</a>,\n",
       " <a class=\"question-hyperlink\" href=\"/questions/136097/difference-between-staticmethod-and-classmethod\">Difference between staticmethod and classmethod</a>,\n",
       " <a class=\"question-hyperlink\" href=\"/questions/509211/understanding-slice-notation\">Understanding slice notation</a>,\n",
       " <a class=\"question-hyperlink\" href=\"/questions/176918/finding-the-index-of-an-item-in-a-list\">Finding the index of an item in a list</a>,\n",
       " <a class=\"question-hyperlink\" href=\"/questions/3294889/iterating-over-dictionaries-using-for-loops\">Iterating over dictionaries using 'for' loops</a>,\n",
       " <a class=\"question-hyperlink\" href=\"/questions/3437059/does-python-have-a-string-contains-substring-method\">Does Python have a string 'contains' substring method?</a>,\n",
       " <a class=\"js-gps-track question-hyperlink mb0\" data-gps-track=\"site.switch({ item_type:9, target_site:200 }); posts_hot_network.click({ item_type:2, location:9 })\" href=\"https://codegolf.stackexchange.com/questions/238462/convert-superscript-numbers-to-normal-numbers\">\n",
       "                     Convert superscript numbers to normal numbers\n",
       "                 </a>,\n",
       " <a class=\"js-gps-track question-hyperlink mb0\" data-gps-track=\"site.switch({ item_type:9, target_site:435 }); posts_hot_network.click({ item_type:2, location:9 })\" href=\"https://chess.stackexchange.com/questions/37684/is-there-a-mathematical-theorem-that-you-can-use-to-win-a-chess-game\">\n",
       "                     Is there a mathematical theorem that you can use to win a chess game?\n",
       "                 </a>,\n",
       " <a class=\"js-gps-track question-hyperlink mb0\" data-gps-track=\"site.switch({ item_type:9, target_site:415 }); posts_hot_network.click({ item_type:2, location:9 })\" href=\"https://academia.stackexchange.com/questions/179154/i-am-an-assistant-professor-in-an-email-how-should-i-address-an-associate-prof\">\n",
       "                     I am an assistant professor. In an email, how should I address an associate professor in a different university with no prior contact?\n",
       "                 </a>,\n",
       " <a class=\"js-gps-track question-hyperlink mb0\" data-gps-track=\"site.switch({ item_type:9, target_site:579 }); posts_hot_network.click({ item_type:2, location:9 })\" href=\"https://worldbuilding.stackexchange.com/questions/219139/how-might-nuclear-power-have-never-been-developed\">\n",
       "                     How might nuclear power have never been developed?\n",
       "                 </a>,\n",
       " <a class=\"js-gps-track question-hyperlink mb0\" data-gps-track=\"site.switch({ item_type:9, target_site:85 }); posts_hot_network.click({ item_type:2, location:9 })\" href=\"https://tex.stackexchange.com/questions/626078/expl3-token-list-with-utf-8-characters-or-seeing-it-as-a-byte-list\">\n",
       "                     Expl3 token list with UTF-8 characters (or seeing it as a byte list)\n",
       "                 </a>,\n",
       " <a class=\"js-gps-track question-hyperlink mb0\" data-gps-track=\"site.switch({ item_type:9, target_site:240 }); posts_hot_network.click({ item_type:2, location:9 })\" href=\"https://music.stackexchange.com/questions/119065/bass-score-what-does-maybe-quarter-notes-mean\">\n",
       "                     Bass score, what does \"Maybe quarter notes\" mean?\n",
       "                 </a>,\n",
       " <a class=\"js-gps-track question-hyperlink mb0\" data-gps-track=\"site.switch({ item_type:9, target_site:415 }); posts_hot_network.click({ item_type:2, location:9 })\" href=\"https://academia.stackexchange.com/questions/179187/is-it-rude-to-be-messaging-your-supervisor-if-he-is-in-hospital\">\n",
       "                     Is it rude to be messaging your supervisor if he is in hospital?\n",
       "                 </a>,\n",
       " <a class=\"js-gps-track question-hyperlink mb0\" data-gps-track=\"site.switch({ item_type:9, target_site:151 }); posts_hot_network.click({ item_type:2, location:9 })\" href=\"https://physics.stackexchange.com/questions/682546/why-do-we-need-very-large-stationary-telescopes-in-addition-to-the-orbital-teles\">\n",
       "                     Why do we need very large stationary telescopes in addition to the orbital telescopes?\n",
       "                 </a>,\n",
       " <a class=\"js-gps-track question-hyperlink mb0\" data-gps-track=\"site.switch({ item_type:9, target_site:93 }); posts_hot_network.click({ item_type:2, location:9 })\" href=\"https://money.stackexchange.com/questions/146930/is-it-a-good-idea-to-make-one-additional-monthly-payment-to-a-morgage\">\n",
       "                     Is it a good idea to make one additional monthly payment to a morgage?\n",
       "                 </a>,\n",
       " <a class=\"js-gps-track question-hyperlink mb0\" data-gps-track=\"site.switch({ item_type:9, target_site:126 }); posts_hot_network.click({ item_type:2, location:9 })\" href=\"https://bicycles.stackexchange.com/questions/82118/pedal-arm-clunking-falling-off-how-to-fix\">\n",
       "                     Pedal arm clunking &amp; falling off, how to fix?\n",
       "                 </a>,\n",
       " <a class=\"js-gps-track question-hyperlink mb0\" data-gps-track=\"site.switch({ item_type:9, target_site:273 }); posts_hot_network.click({ item_type:2, location:9 })\" href=\"https://travel.stackexchange.com/questions/170187/traveling-with-my-bicycle-on-top-of-my-car-in-europe\">\n",
       "                     Traveling with my bicycle on top of my car in Europe\n",
       "                 </a>,\n",
       " <a class=\"js-gps-track question-hyperlink mb0\" data-gps-track=\"site.switch({ item_type:9, target_site:122 }); posts_hot_network.click({ item_type:2, location:9 })\" href=\"https://rpg.stackexchange.com/questions/193599/does-a-changeling-gain-the-abilities-of-the-race-it-shapeshifts-into\">\n",
       "                     Does a changeling gain the abilities of the race it shapeshifts into?\n",
       "                 </a>,\n",
       " <a class=\"js-gps-track question-hyperlink mb0\" data-gps-track=\"site.switch({ item_type:9, target_site:240 }); posts_hot_network.click({ item_type:2, location:9 })\" href=\"https://music.stackexchange.com/questions/119088/how-to-play-a-tremolo-between-a-rest-and-a-note-piano-sheet\">\n",
       "                     How to play a tremolo between a rest and a note? (piano sheet)\n",
       "                 </a>,\n",
       " <a class=\"js-gps-track question-hyperlink mb0\" data-gps-track=\"site.switch({ item_type:9, target_site:93 }); posts_hot_network.click({ item_type:2, location:9 })\" href=\"https://money.stackexchange.com/questions/146928/money-order-shredded-by-hoa-what-do-i-do\">\n",
       "                     Money Order shredded by HOA, what do I do?\n",
       "                 </a>,\n",
       " <a class=\"js-gps-track question-hyperlink mb0\" data-gps-track=\"site.switch({ item_type:9, target_site:415 }); posts_hot_network.click({ item_type:2, location:9 })\" href=\"https://academia.stackexchange.com/questions/179194/phd-student-who-wants-to-stay-for-a-tenure-position\">\n",
       "                     PhD student who wants to stay for a tenure position\n",
       "                 </a>,\n",
       " <a class=\"js-gps-track question-hyperlink mb0\" data-gps-track=\"site.switch({ item_type:9, target_site:151 }); posts_hot_network.click({ item_type:2, location:9 })\" href=\"https://physics.stackexchange.com/questions/682505/without-saying-cross-product-explain-why-there-is-a-skew-symmetric-angular-mom\">\n",
       "                     Without saying \"cross product\" explain why there is a skew-symmetric angular momentum tensor\n",
       "                 </a>,\n",
       " <a class=\"js-gps-track question-hyperlink mb0\" data-gps-track=\"site.switch({ item_type:9, target_site:579 }); posts_hot_network.click({ item_type:2, location:9 })\" href=\"https://worldbuilding.stackexchange.com/questions/219071/the-usa-breaks-up-who-gets-the-nukes\">\n",
       "                     The USA breaks up. Who gets the nukes?\n",
       "                 </a>,\n",
       " <a class=\"js-gps-track question-hyperlink mb0\" data-gps-track=\"site.switch({ item_type:9, target_site:79 }); posts_hot_network.click({ item_type:2, location:9 })\" href=\"https://gis.stackexchange.com/questions/418918/creating-field-with-1-0-values-depending-if-point-sits-inside-polygon-in-qgis\">\n",
       "                     Creating field with 1/0 values depending if point sits inside polygon in QGIS\n",
       "                 </a>,\n",
       " <a class=\"js-gps-track question-hyperlink mb0\" data-gps-track=\"site.switch({ item_type:9, target_site:579 }); posts_hot_network.click({ item_type:2, location:9 })\" href=\"https://worldbuilding.stackexchange.com/questions/219057/how-to-avoid-evolution-for-a-language-made-to-be-spoken-across-an-entire-galaxy\">\n",
       "                     How to avoid evolution for a language made to be spoken across an entire galaxy?\n",
       "                 </a>,\n",
       " <a class=\"js-gps-track question-hyperlink mb0\" data-gps-track=\"site.switch({ item_type:9, target_site:186 }); posts_hot_network.click({ item_type:2, location:9 })\" href=\"https://scifi.stackexchange.com/questions/257121/why-did-ron-tell-harry-not-to-tell-hermione-that-snatchers-are-a-bit-dim\">\n",
       "                     Why did Ron tell Harry not to tell Hermione that Snatchers are ‘a bit dim’?\n",
       "                 </a>,\n",
       " <a class=\"js-gps-track question-hyperlink mb0\" data-gps-track=\"site.switch({ item_type:9, target_site:617 }); posts_hot_network.click({ item_type:2, location:9 })\" href=\"https://law.stackexchange.com/questions/75312/if-applied-in-the-united-states-what-is-the-most-obvious-legally-functional-dif\">\n",
       "                     If applied in the United States, what is the most obvious legally functional difference between the British and American \"mirandizing\" phrase?\n",
       "                 </a>,\n",
       " <a class=\"js-gps-track question-hyperlink mb0\" data-gps-track=\"site.switch({ item_type:9, target_site:196 }); posts_hot_network.click({ item_type:2, location:9 })\" href=\"https://codereview.stackexchange.com/questions/270944/console-library-system-in-c\">\n",
       "                     Console Library System in C++\n",
       "                 </a>,\n",
       " <a class=\"js-gps-track question-hyperlink mb0\" data-gps-track=\"site.switch({ item_type:9, target_site:324 }); posts_hot_network.click({ item_type:2, location:9 })\" href=\"https://history.stackexchange.com/questions/66843/what-is-the-bag-on-a-stick-hercules-is-holding-in-this-picture\">\n",
       "                     What is the \"bag on a stick\" Hercules is holding in this picture?\n",
       "                 </a>,\n",
       " <a class=\"js-gps-track question-hyperlink mb0\" data-gps-track=\"site.switch({ item_type:9, target_site:126 }); posts_hot_network.click({ item_type:2, location:9 })\" href=\"https://bicycles.stackexchange.com/questions/82106/legality-and-morality-around-wearing-a-red-blue-flashing-light-on-a-bicycle-in\">\n",
       "                     Legality and morality around wearing a red / blue flashing light on a bicycle in the UK?\n",
       "                 </a>]"
      ]
     },
     "execution_count": 10,
     "metadata": {},
     "output_type": "execute_result"
    }
   ],
   "source": [
    "questions"
   ]
  },
  {
   "cell_type": "code",
   "execution_count": 11,
   "metadata": {},
   "outputs": [
    {
     "data": {
      "text/plain": [
       "'/questions/231767/what-does-the-yield-keyword-do'"
      ]
     },
     "execution_count": 11,
     "metadata": {},
     "output_type": "execute_result"
    }
   ],
   "source": [
    "questions[0]['href']"
   ]
  },
  {
   "cell_type": "code",
   "execution_count": 12,
   "metadata": {},
   "outputs": [
    {
     "data": {
      "text/plain": [
       "'What does the \"yield\" keyword do?'"
      ]
     },
     "execution_count": 12,
     "metadata": {},
     "output_type": "execute_result"
    }
   ],
   "source": [
    "questions[0].text"
   ]
  },
  {
   "cell_type": "code",
   "execution_count": 13,
   "metadata": {},
   "outputs": [],
   "source": [
    "browser.quit()"
   ]
  }
 ],
 "metadata": {
  "kernelspec": {
   "display_name": "PythonData",
   "language": "python",
   "name": "pythondata"
  },
  "language_info": {
   "codemirror_mode": {
    "name": "ipython",
    "version": 3
   },
   "file_extension": ".py",
   "mimetype": "text/x-python",
   "name": "python",
   "nbconvert_exporter": "python",
   "pygments_lexer": "ipython3",
   "version": "3.9.7"
  }
 },
 "nbformat": 4,
 "nbformat_minor": 4
}
