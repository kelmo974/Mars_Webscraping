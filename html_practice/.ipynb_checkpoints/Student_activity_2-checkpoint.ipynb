{
 "cells": [
  {
   "cell_type": "code",
   "execution_count": 1,
   "id": "e3e837bf",
   "metadata": {},
   "outputs": [],
   "source": [
    "from bs4 import BeautifulSoup as soup"
   ]
  },
  {
   "cell_type": "code",
   "execution_count": 4,
   "id": "8099f263",
   "metadata": {},
   "outputs": [],
   "source": [
    "html = \"\"\"<!DOCTYPE html>\n",
    "<html lang=\"en\">\n",
    "\n",
    "<head>\n",
    "    <meta charset=\"UTF-8\">\n",
    "    <meta http-equiv=\"X-UA-Compatible\" content=\"IE=edge\">\n",
    "    <meta name=\"viewport\" content=\"width=device-width, initial-scale=1.0\">\n",
    "    <title>Document</title>\n",
    "</head>\n",
    "\n",
    "<body>\n",
    "    <h1>pandas</h1>\n",
    "    <blockquote>pandas is a powerful Python data analysis library. </blockquote>\n",
    "\n",
    "    <div id=\"start\" , class=\"section\">\n",
    "        <h3 class=\"section-header\">Getting Started</h3>\n",
    "        <ul class=\"pandas-ul\">\n",
    "            <a href=\"https://pandas.pydata.org/getting_started.html\">\n",
    "                <li>Install pandas</li>\n",
    "            </a>\n",
    "            <a href=\"https://pandas.pydata.org/docs/getting_started/index.html\">\n",
    "                <li>Getting started</li>\n",
    "            </a>\n",
    "        </ul>\n",
    "    </div>\n",
    "\n",
    "    <div id=\"documentation\" , class=\"section\">\n",
    "        <h3 class=\"section-header\">Documentation</h3>\n",
    "        <ul class=\"pandas-ul\">\n",
    "            <a href=\"https://pandas.pydata.org/docs/user_guide/index.html\">\n",
    "                <li>User guide</li>\n",
    "            </a>\n",
    "            <a href=\"https://pandas.pydata.org/docs/reference/index.html\">\n",
    "                <li>API reference</li>\n",
    "            </a>\n",
    "            <a href=\"https://pandas.pydata.org/docs/development/index.html\">\n",
    "                <li>How to contribute to pandas</li>\n",
    "            </a>\n",
    "        </ul>\n",
    "    </div>\n",
    "\n",
    "    <div id=\"community\" , class=\"section\">\n",
    "        <h3 class=\"section-header\">The pandas Community</h3>\n",
    "        <ul class=\"pandas-ul\">\n",
    "            <a href=\"https://pandas.pydata.org/about/index.html\">\n",
    "                <li>More about pandas</li>\n",
    "            </a>\n",
    "            <a href=\"https://stackoverflow.com/questions/tagged/pandas\">\n",
    "                <li>Have questions?</li>\n",
    "            </a>\n",
    "            <a href=\"https://pandas.pydata.org/community/ecosystem.html\">\n",
    "                <li>The pandas ecosystem</li>\n",
    "            </a>\n",
    "        </ul>\n",
    "    </div>\n",
    "</body>\n",
    "\n",
    "</html>\n",
    "\"\"\""
   ]
  },
  {
   "cell_type": "code",
   "execution_count": 6,
   "id": "60d3e69d",
   "metadata": {},
   "outputs": [
    {
     "name": "stdout",
     "output_type": "stream",
     "text": [
      "<!DOCTYPE html>\n",
      "<html lang=\"en\">\n",
      " <head>\n",
      "  <meta charset=\"utf-8\"/>\n",
      "  <meta content=\"IE=edge\" http-equiv=\"X-UA-Compatible\"/>\n",
      "  <meta content=\"width=device-width, initial-scale=1.0\" name=\"viewport\"/>\n",
      "  <title>\n",
      "   Document\n",
      "  </title>\n",
      " </head>\n",
      " <body>\n",
      "  <h1>\n",
      "   pandas\n",
      "  </h1>\n",
      "  <blockquote>\n",
      "   pandas is a powerful Python data analysis library.\n",
      "  </blockquote>\n",
      "  <div ,=\"\" class=\"section\" id=\"start\">\n",
      "   <h3 class=\"section-header\">\n",
      "    Getting Started\n",
      "   </h3>\n",
      "   <ul class=\"pandas-ul\">\n",
      "    <a href=\"https://pandas.pydata.org/getting_started.html\">\n",
      "     <li>\n",
      "      Install pandas\n",
      "     </li>\n",
      "    </a>\n",
      "    <a href=\"https://pandas.pydata.org/docs/getting_started/index.html\">\n",
      "     <li>\n",
      "      Getting started\n",
      "     </li>\n",
      "    </a>\n",
      "   </ul>\n",
      "  </div>\n",
      "  <div ,=\"\" class=\"section\" id=\"documentation\">\n",
      "   <h3 class=\"section-header\">\n",
      "    Documentation\n",
      "   </h3>\n",
      "   <ul class=\"pandas-ul\">\n",
      "    <a href=\"https://pandas.pydata.org/docs/user_guide/index.html\">\n",
      "     <li>\n",
      "      User guide\n",
      "     </li>\n",
      "    </a>\n",
      "    <a href=\"https://pandas.pydata.org/docs/reference/index.html\">\n",
      "     <li>\n",
      "      API reference\n",
      "     </li>\n",
      "    </a>\n",
      "    <a href=\"https://pandas.pydata.org/docs/development/index.html\">\n",
      "     <li>\n",
      "      How to contribute to pandas\n",
      "     </li>\n",
      "    </a>\n",
      "   </ul>\n",
      "  </div>\n",
      "  <div ,=\"\" class=\"section\" id=\"community\">\n",
      "   <h3 class=\"section-header\">\n",
      "    The pandas Community\n",
      "   </h3>\n",
      "   <ul class=\"pandas-ul\">\n",
      "    <a href=\"https://pandas.pydata.org/about/index.html\">\n",
      "     <li>\n",
      "      More about pandas\n",
      "     </li>\n",
      "    </a>\n",
      "    <a href=\"https://stackoverflow.com/questions/tagged/pandas\">\n",
      "     <li>\n",
      "      Have questions?\n",
      "     </li>\n",
      "    </a>\n",
      "    <a href=\"https://pandas.pydata.org/community/ecosystem.html\">\n",
      "     <li>\n",
      "      The pandas ecosystem\n",
      "     </li>\n",
      "    </a>\n",
      "   </ul>\n",
      "  </div>\n",
      " </body>\n",
      "</html>\n",
      "\n"
     ]
    }
   ],
   "source": [
    "html_soup = soup(html, 'html.parser')\n",
    "print(html_soup.prettify())"
   ]
  },
  {
   "cell_type": "code",
   "execution_count": 13,
   "id": "5698e1de",
   "metadata": {},
   "outputs": [
    {
     "name": "stdout",
     "output_type": "stream",
     "text": [
      "Getting Started\n",
      "Documentation\n",
      "The pandas Community\n"
     ]
    }
   ],
   "source": [
    "h3 = html_soup.find_all(\"h3\")\n",
    "for h in h3:\n",
    "    print(h.text)"
   ]
  },
  {
   "cell_type": "code",
   "execution_count": 27,
   "id": "2b9aef74",
   "metadata": {},
   "outputs": [
    {
     "name": "stdout",
     "output_type": "stream",
     "text": [
      "<div ,=\"\" class=\"section\" id=\"start\">\n",
      "<h3 class=\"section-header\">Getting Started</h3>\n",
      "<ul class=\"pandas-ul\">\n",
      "<a href=\"https://pandas.pydata.org/getting_started.html\">\n",
      "<li>Install pandas</li>\n",
      "</a>\n",
      "<a href=\"https://pandas.pydata.org/docs/getting_started/index.html\">\n",
      "<li>Getting started</li>\n",
      "</a>\n",
      "</ul>\n",
      "</div>\n"
     ]
    }
   ],
   "source": [
    "url = html_soup.find(\"div\", id='start')\n",
    "print(url)"
   ]
  },
  {
   "cell_type": "code",
   "execution_count": 28,
   "id": "76391913",
   "metadata": {},
   "outputs": [
    {
     "name": "stdout",
     "output_type": "stream",
     "text": [
      "[<a href=\"https://pandas.pydata.org/getting_started.html\">\n",
      "<li>Install pandas</li>\n",
      "</a>, <a href=\"https://pandas.pydata.org/docs/getting_started/index.html\">\n",
      "<li>Getting started</li>\n",
      "</a>]\n"
     ]
    }
   ],
   "source": [
    "url_text = url.find_all(\"a\")\n",
    "print(first_url)"
   ]
  },
  {
   "cell_type": "code",
   "execution_count": null,
   "id": "6241aa81",
   "metadata": {},
   "outputs": [],
   "source": []
  }
 ],
 "metadata": {
  "kernelspec": {
   "display_name": "Python 3 (ipykernel)",
   "language": "python",
   "name": "python3"
  },
  "language_info": {
   "codemirror_mode": {
    "name": "ipython",
    "version": 3
   },
   "file_extension": ".py",
   "mimetype": "text/x-python",
   "name": "python",
   "nbconvert_exporter": "python",
   "pygments_lexer": "ipython3",
   "version": "3.7.13"
  }
 },
 "nbformat": 4,
 "nbformat_minor": 5
}
