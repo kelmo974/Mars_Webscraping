{
 "cells": [
  {
   "cell_type": "code",
   "execution_count": 40,
   "id": "bdd23801",
   "metadata": {},
   "outputs": [],
   "source": [
    "from splinter import Browser\n",
    "from bs4 import BeautifulSoup\n",
    "from webdriver_manager.chrome import ChromeDriverManager\n",
    "from selenium import webdriver\n",
    "\n",
    "executable_path = {'executable_path': ChromeDriverManager().install()}\n",
    "browser = Browser('chrome', **executable_path, headless=False)"
   ]
  },
  {
   "cell_type": "code",
   "execution_count": 41,
   "id": "64f5e61e",
   "metadata": {},
   "outputs": [],
   "source": [
    "url = \"https://redplanetscience.com/\"\n",
    "browser.visit(url)\n",
    "html = browser.html\n",
    "html_soup = BeautifulSoup(html, 'html.parser')"
   ]
  },
  {
   "cell_type": "code",
   "execution_count": 48,
   "id": "a54c9d6b",
   "metadata": {},
   "outputs": [
    {
     "name": "stdout",
     "output_type": "stream",
     "text": [
      "News - Mars Exploration Program\n"
     ]
    }
   ],
   "source": [
    "# scraping first title to test\n",
    "mars_title = html_soup.find('title').text\n",
    "print(mars_title)"
   ]
  },
  {
   "cell_type": "code",
   "execution_count": 49,
   "id": "a5ccfc3b",
   "metadata": {},
   "outputs": [],
   "source": [
    "# # # Scrape mars article titles and previews found on front page\n",
    "# def get_summary():\n",
    "#     mars_info = html_soup.find_all('div', class_='col-md-8')\n",
    "#     print(mars_info)\n"
   ]
  },
  {
   "cell_type": "code",
   "execution_count": 50,
   "id": "0e7423e3",
   "metadata": {},
   "outputs": [
    {
     "name": "stdout",
     "output_type": "stream",
     "text": [
      "NASA's Curiosity Keeps Rolling As Team Operates Rover From Home\n",
      "The team has learned to meet new challenges as they work remotely on the Mars mission.\n"
     ]
    }
   ],
   "source": [
    "titles = html_soup.find('div', class_='content_title').text\n",
    "teasers = html_soup.find('div', class_='article_teaser_body').text\n",
    "print(titles)\n",
    "print(teasers)\n",
    "# loop for all front page titles with teasers (perfortmed on November 10 and noticed articles seem to update frequently)\n",
    "\n",
    "# for _ in titles:\n",
    "#     _ = title.text\n",
    "#     print(_)\n",
    "\n",
    "# mars_dict = {title:\n",
    "    \n",
    "# }\n"
   ]
  },
  {
   "cell_type": "code",
   "execution_count": null,
   "id": "593f9b89",
   "metadata": {},
   "outputs": [],
   "source": []
  }
 ],
 "metadata": {
  "kernelspec": {
   "display_name": "Python 3 (ipykernel)",
   "language": "python",
   "name": "python3"
  },
  "language_info": {
   "codemirror_mode": {
    "name": "ipython",
    "version": 3
   },
   "file_extension": ".py",
   "mimetype": "text/x-python",
   "name": "python",
   "nbconvert_exporter": "python",
   "pygments_lexer": "ipython3",
   "version": "3.7.13"
  }
 },
 "nbformat": 4,
 "nbformat_minor": 5
}
